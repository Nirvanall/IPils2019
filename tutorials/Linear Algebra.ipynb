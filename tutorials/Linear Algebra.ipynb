{
 "cells": [
  {
   "cell_type": "markdown",
   "metadata": {},
   "source": [
    "# Linear Algebra\n",
    "\n",
    "We can perform basic linear algebra using `numpy` and `scipy`"
   ]
  },
  {
   "cell_type": "code",
   "execution_count": 11,
   "metadata": {},
   "outputs": [],
   "source": [
    "import numpy as np\n",
    "import scipy.sparse as sp\n",
    "import matplotlib.pyplot as plt"
   ]
  },
  {
   "cell_type": "code",
   "execution_count": 2,
   "metadata": {},
   "outputs": [
    {
     "name": "stdout",
     "output_type": "stream",
     "text": [
      "[3 2 0]\n",
      "[2 2 0]\n"
     ]
    },
    {
     "data": {
      "text/plain": [
       "array([[2, 3, 1],\n",
       "       [2, 2, 0],\n",
       "       [2, 0, 1]])"
      ]
     },
     "execution_count": 2,
     "metadata": {},
     "output_type": "execute_result"
    }
   ],
   "source": [
    "# Define matrix and vector\n",
    "x = np.array([0,1,2])\n",
    "A = np.array([[2,1,2],[3,2,0],[1,0,1]])\n",
    "\n",
    "# matrix-vector product\n",
    "y = A@x\n",
    "\n",
    "# element-wise operations\n",
    "x[0] = 1\n",
    "A[0,1] = 2\n",
    "\n",
    "# extracing rows and columns\n",
    "print(A[1,:])\n",
    "print(A[:,1])\n",
    "\n",
    "# copy matrix\n",
    "B = A.copy()\n",
    "\n",
    "# transpose\n",
    "B.T"
   ]
  },
  {
   "cell_type": "markdown",
   "metadata": {},
   "source": [
    "### Exercise\n",
    "What happens when you define a new matrix using `C = A`? Hint: try changing an element in the new matrix and inspect both `C` and `A`."
   ]
  },
  {
   "cell_type": "markdown",
   "metadata": {},
   "source": [
    "## Matrix and vector norms"
   ]
  },
  {
   "cell_type": "code",
   "execution_count": 3,
   "metadata": {},
   "outputs": [
    {
     "data": {
      "text/plain": [
       "5.196152422706632"
      ]
     },
     "execution_count": 3,
     "metadata": {},
     "output_type": "execute_result"
    }
   ],
   "source": [
    "# vector p-norm and induced matrix norm\n",
    "np.linalg.norm(x,2)\n",
    "np.linalg.norm(x,1)\n",
    "np.linalg.norm(x,np.inf)\n",
    "\n",
    "np.linalg.norm(A,2)\n",
    "np.linalg.norm(A,1)\n",
    "np.linalg.norm(A,np.inf)\n",
    "\n",
    "# Frobenius norm\n",
    "np.linalg.norm(A,'fro')"
   ]
  },
  {
   "cell_type": "markdown",
   "metadata": {},
   "source": [
    "## Special arrays\n"
   ]
  },
  {
   "cell_type": "code",
   "execution_count": 4,
   "metadata": {},
   "outputs": [],
   "source": [
    "# all ones or zeros\n",
    "y = np.zeros(4)\n",
    "F = np.ones((4,4))\n",
    "\n",
    "# normally distributed random elements\n",
    "r = np.random.randn(4)\n",
    "\n",
    "# identity matrix\n",
    "I = np.eye(3)\n",
    "\n",
    "# banded matrix\n",
    "L = np.diag([1,1],k=-1)"
   ]
  },
  {
   "cell_type": "markdown",
   "metadata": {},
   "source": [
    "### Exercise\n",
    "Create a 10 x 10 matrix with $a_{ii} = -2$, $a_{i,i+1} = a_{i,i-1} = 1$"
   ]
  },
  {
   "cell_type": "markdown",
   "metadata": {},
   "source": [
    "## Eigenvalues and vectors\n"
   ]
  },
  {
   "cell_type": "code",
   "execution_count": 6,
   "metadata": {},
   "outputs": [
    {
     "name": "stdout",
     "output_type": "stream",
     "text": [
      "eigenvalues of A: [ 4.0861302  -0.51413693  1.42800673]\n",
      "first eigenvector of A:  [-0.5613869  -0.80731332 -0.18190642]\n"
     ]
    }
   ],
   "source": [
    "A = np.array([[2,1,2],[3,2,0],[1,0,1]])\n",
    "\n",
    "l,V = np.linalg.eig(A)\n",
    "\n",
    "print('eigenvalues of A:',l)\n",
    "print('first eigenvector of A: ',V[:,0])"
   ]
  },
  {
   "cell_type": "markdown",
   "metadata": {},
   "source": [
    "### Exercise\n",
    "Compute the eigenvalues and vectors of \n",
    "$$\n",
    "A = \\left(\\begin{matrix} 3 & 1 \\\\ 0 & 3 \\end{matrix}\\right)\n",
    "$$\n",
    "What is special about this matrix?"
   ]
  },
  {
   "cell_type": "markdown",
   "metadata": {},
   "source": [
    "## Sparse matrices\n",
    "Large matrices that have few non-zero entries are more efficiently stored as *sparse matrix*:"
   ]
  },
  {
   "cell_type": "code",
   "execution_count": 10,
   "metadata": {},
   "outputs": [
    {
     "data": {
      "image/png": "[encoded data removed]",
      "text/plain": [
       "<Figure size 432x288 with 1 Axes>"
      ]
     },
     "metadata": {},
     "output_type": "display_data"
    }
   ],
   "source": [
    "# sparse identity matrix\n",
    "D = sp.eye(100)\n",
    "\n",
    "# random sparse matrix\n",
    "R = sp.random(100,100,density=0.01)\n",
    "\n",
    "# plot a sparse matrix\n",
    "plt.spy(R)\n",
    "plt.show()"
   ]
  },
  {
   "cell_type": "markdown",
   "metadata": {},
   "source": [
    "### Exercise\n",
    "Check what the command `diags([1, -2, 1], [-1, 0, 1], shape=(4, 4))` produces"
   ]
  },
  {
   "cell_type": "code",
   "execution_count": null,
   "metadata": {},
   "outputs": [],
   "source": []
  }
 ],
 "metadata": {
  "kernelspec": {
   "display_name": "Python 3",
   "language": "python",
   "name": "python3"
  },
  "language_info": {
   "codemirror_mode": {
    "name": "ipython",
    "version": 3
   },
   "file_extension": ".py",
   "mimetype": "text/x-python",
   "name": "python",
   "nbconvert_exporter": "python",
   "pygments_lexer": "ipython3",
   "version": "3.7.0"
  }
 },
 "nbformat": 4,
 "nbformat_minor": 2
}
