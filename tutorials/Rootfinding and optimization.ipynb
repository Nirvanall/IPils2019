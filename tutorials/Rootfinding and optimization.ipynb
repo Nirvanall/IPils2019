{
 "cells": [
  {
   "cell_type": "markdown",
   "metadata": {},
   "source": [
    "# Rootfinding and optimization\n",
    "In many applications we would like to find a root or minimum of a function in one or more variables. We will learn more about these methods later on, but will show some black-box methods in Python here."
   ]
  },
  {
   "cell_type": "code",
   "execution_count": 1,
   "metadata": {},
   "outputs": [],
   "source": [
    "# import scipy module\n",
    "import scipy.optimize as opt"
   ]
  },
  {
   "cell_type": "markdown",
   "metadata": {},
   "source": [
    "## Rootfinding in one variable\n",
    "We want to find $x\\in\\mathbb{R}$ for which $f(x) = 0$. Two well-known methods are Bisection and Newton's method."
   ]
  },
  {
   "cell_type": "code",
   "execution_count": 2,
   "metadata": {},
   "outputs": [
    {
     "name": "stdout",
     "output_type": "stream",
     "text": [
      "found root :  1.4142135623715149\n",
      "found root :  1.414213562373095\n"
     ]
    }
   ],
   "source": [
    "# define function\n",
    "f = lambda x : x**2 - 2\n",
    "\n",
    "# bisection\n",
    "root = opt.bisect(f,0,2)\n",
    "print('found root : ', root)\n",
    "\n",
    "# Newton\n",
    "root = opt.newton(f,0)\n",
    "print('found root : ', root)"
   ]
  },
  {
   "cell_type": "markdown",
   "metadata": {},
   "source": [
    "### Exercise\n",
    "Try both methods on the function $x^2$, what is going on?"
   ]
  },
  {
   "cell_type": "markdown",
   "metadata": {},
   "source": [
    "### Exercise\n",
    "Find all roots of the functions $3.1078 - 8.09404 x + 3.25688 x^2 + x^3$ and $-1.61051 + 7.3205 x - 13.31 x^2 + 12.1 x^3 - 5.5 x^4 + x^5$."
   ]
  },
  {
   "cell_type": "markdown",
   "metadata": {},
   "source": [
    "## Optimization in one variable\n",
    "Findig the minimum of a function in one variable is a common task. Various methods are available via a common interface:"
   ]
  },
  {
   "cell_type": "code",
   "execution_count": 3,
   "metadata": {},
   "outputs": [
    {
     "name": "stdout",
     "output_type": "stream",
     "text": [
      "     fun: 4.0\n",
      "    nfev: 8\n",
      "     nit: 4\n",
      " success: True\n",
      "       x: 0.99999998519\n"
     ]
    }
   ],
   "source": [
    "f = lambda x : x**2 - 2*x + 5\n",
    "\n",
    "xm = opt.minimize_scalar(f)\n",
    "print(xm)"
   ]
  },
  {
   "cell_type": "markdown",
   "metadata": {},
   "source": [
    "### Exercise\n",
    "Check out the documentation of [`minimize_scalar`](https://docs.scipy.org/doc/scipy/reference/generated/scipy.optimize.minimize_scalar.html#scipy.optimize.minimize_scalar)\n",
    "and try different methods for finding the minimum of $(x-1)^8$. Which one works best?"
   ]
  },
  {
   "cell_type": "markdown",
   "metadata": {},
   "source": [
    "## Optimization in multiple variables\n"
   ]
  },
  {
   "cell_type": "code",
   "execution_count": 4,
   "metadata": {},
   "outputs": [
    {
     "name": "stdout",
     "output_type": "stream",
     "text": [
      " final_simplex: (array([[-0.14285386,  2.28575115],\n",
      "       [-0.14286149,  2.28567636],\n",
      "       [-0.14284659,  2.28569444]]), array([2.30419251e-09, 2.43575720e-09, 5.27603680e-09]))\n",
      "           fun: 2.304192514827093e-09\n",
      "       message: 'Optimization terminated successfully.'\n",
      "          nfev: 136\n",
      "           nit: 71\n",
      "        status: 0\n",
      "       success: True\n",
      "             x: array([-0.14285386,  2.28575115])\n"
     ]
    }
   ],
   "source": [
    "# Define quadratic function\n",
    "f  = lambda x : (2*x[0] + x[1] - 2)**2 + (5*x[0] - x[1] + 3)**2\n",
    "\n",
    "# find minimum using Nelder-Mead method\n",
    "xm = opt.minimize(f,[0,0],method='Nelder-Mead')\n",
    "print(xm)"
   ]
  },
  {
   "cell_type": "markdown",
   "metadata": {},
   "source": [
    "### Exercise\n",
    "Find the minimum of the function in the example above by hand and verify the solution found by the algorithm. Hint: at a minimum of $f(x,y) = 0$ we have $\\partial_x f(x,y) = \\partial_y f(x,y) = 0$."
   ]
  },
  {
   "cell_type": "code",
   "execution_count": null,
   "metadata": {},
   "outputs": [],
   "source": []
  }
 ],
 "metadata": {
  "kernelspec": {
   "display_name": "Python 3",
   "language": "python",
   "name": "python3"
  },
  "language_info": {
   "codemirror_mode": {
    "name": "ipython",
    "version": 3
   },
   "file_extension": ".py",
   "mimetype": "text/x-python",
   "name": "python",
   "nbconvert_exporter": "python",
   "pygments_lexer": "ipython3",
   "version": "3.7.0"
  }
 },
 "nbformat": 4,
 "nbformat_minor": 1
}
