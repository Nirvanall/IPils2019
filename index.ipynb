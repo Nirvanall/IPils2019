{
 "cells": [
  {
   "cell_type": "markdown",
   "metadata": {},
   "source": [
    "# Inverse Problems in Imaging 2019"
   ]
  },
  {
   "cell_type": "markdown",
   "metadata": {},
   "source": [
    "Below you'll find links to the exercises"
   ]
  },
  {
   "cell_type": "markdown",
   "metadata": {},
   "source": [
    "# Python tutorials"
   ]
  },
  {
   "cell_type": "markdown",
   "metadata": {},
   "source": [
    "* [Functions and plotting](./tutorials/Functions and plotting.ipynb)\n",
    "* [Linear Algebra](./tutorials/Linear Algebra.ipynb)\n",
    "* [Rootfinding and optimization](./tutorials/Rootfindinf and optimization.ipynb)\n",
    "* [Image processing](./tutorials/Image processsing.ipynb)"
   ]
  },
  {
   "cell_type": "markdown",
   "metadata": {},
   "source": [
    "# Lecture 1 - What is an inverse problem\n",
    "\n",
    "* [Exercises](./exercises/week1/exercises.ipynb)"
   ]
  },
  {
   "cell_type": "markdown",
   "metadata": {},
   "source": [
    "# Lecture 2 - Finite-dimensional, linear inverse problems\n",
    "\n",
    "* [Exercises](./exercises/week2/exercises.ipynb)"
   ]
  },
  {
   "cell_type": "markdown",
   "metadata": {},
   "source": [
    "# Lecture 3 - Application: Images, filters and deconvolution\n",
    "\n",
    "* [Exercises](./exercises/week3/exercises.ipynb)"
   ]
  },
  {
   "cell_type": "markdown",
   "metadata": {},
   "source": [
    "# Lecture 4 - $\\infty$-dimensional, linear inverse problems\n",
    "\n",
    "* [Exercises](./exercises/week4/exercises.ipynb)"
   ]
  },
  {
   "cell_type": "markdown",
   "metadata": {},
   "source": [
    "# Lecture 5 - Regularization\n",
    "\n",
    "* [Exercises](./exercises/week5/exercises.ipynb)"
   ]
  },
  {
   "cell_type": "markdown",
   "metadata": {},
   "source": [
    "# Lecture 6 - Statistical inverse problems\n",
    "\n",
    "* [Exercises](./exercises/week6/exercises.ipynb)"
   ]
  },
  {
   "cell_type": "markdown",
   "metadata": {},
   "source": [
    "# Lecture 7 - Application: Tomographic imaging\n",
    "\n",
    "* [Exercises](./exercises/week7/exercises.ipynb)"
   ]
  },
  {
   "cell_type": "markdown",
   "metadata": {},
   "source": [
    "# Lecture 8 - Variational methods I\n",
    "\n",
    "* [Exercises](./exercises/week8/exercises.ipynb)"
   ]
  },
  {
   "cell_type": "markdown",
   "metadata": {},
   "source": [
    "# Lecture 9 - Variational methods II\n",
    "\n",
    "* [Exercises](./exercises/week9/exercises.ipynb)"
   ]
  },
  {
   "cell_type": "markdown",
   "metadata": {},
   "source": [
    "# Lecture 10 - Optimization I\n",
    "\n",
    "* [Exercises](./exercises/week10/exercises.ipynb)"
   ]
  },
  {
   "cell_type": "markdown",
   "metadata": {},
   "source": [
    "# Lecture 11 - Optimization II\n",
    "\n",
    "* [Exercises](./exercises/week11/exercises.ipynb)"
   ]
  },
  {
   "cell_type": "markdown",
   "metadata": {},
   "source": [
    "# Lecture 12 - Application: Seismology\n",
    "\n",
    "* [Exercises](./exercises/week12/exercises.ipynb)"
   ]
  },
  {
   "cell_type": "markdown",
   "metadata": {},
   "source": [
    "# Lecture 13 - Optimization III\n",
    "\n",
    "* [Exercises](./exercises/week13/exercises.ipynb)"
   ]
  },
  {
   "cell_type": "code",
   "execution_count": null,
   "metadata": {},
   "outputs": [],
   "source": []
  }
 ],
 "metadata": {
  "kernelspec": {
   "display_name": "Python 3",
   "language": "python",
   "name": "python3"
  },
  "language_info": {
   "codemirror_mode": {
    "name": "ipython",
    "version": 3
   },
   "file_extension": ".py",
   "mimetype": "text/x-python",
   "name": "python",
   "nbconvert_exporter": "python",
   "pygments_lexer": "ipython3",
   "version": "3.7.0"
  }
 },
 "nbformat": 4,
 "nbformat_minor": 2
}
