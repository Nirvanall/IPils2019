{
 "cells": [
  {
   "cell_type": "code",
   "execution_count": 1,
   "metadata": {},
   "outputs": [],
   "source": [
    "import numpy as np\n",
    "import matplotlib.pyplot as plt\n",
    "import waves"
   ]
  },
  {
   "cell_type": "markdown",
   "metadata": {},
   "source": [
    "# Inverse source problem\n",
    "\n",
    "Take $n=1$, $c=1$ and source term $\\delta(t)u(x)$ with $q$ square integrable and supported on $[-\\frac{1}{2},\\frac{1}{2}]$ and measurements at $x = 1$ for $t\\in [0,T]$.\n",
    "\n",
    "* Show that the forward operator can be expressed as\n",
    "$$\n",
    "f(t) = Kq(t) = \\int_{1-t}^{1+t} u(x')\\mathrm{d}x',\n",
    "$$\n",
    "and that the operator is bounded.\n",
    "\n",
    "* Show that $q$ can *in principle* be reconstructed from $f(t)$ with $t\\in [\\frac{1}{2},\\frac{3}{2}]$ with the following reconstruction formula:\n",
    "$$\n",
    "\\widetilde{q}(x) = f'(1 - x).\n",
    "$$\n",
    "\n",
    "* Show that $v_{\\epsilon}(x) = \\sin(2\\pi\\epsilon x)$ is an almost non-radiating source in the sense that $\\|K v_{\\epsilon}\\|/\\|v_{\\epsilon}\\| = \\mathcal{O}(\\epsilon^{-1})$ as $\\epsilon \\rightarrow \\infty$.\n",
    "\n",
    "* Now consider noisy measurements $f^{\\delta}(t) = K q(t) + \\delta \\sin(t/\\delta)$ and show that the error in the reconstruction is of order 1, i.e.,\n",
    "$$\n",
    "\\|\\widetilde{q} - q\\| = \\mathcal{O}(1),\n",
    "$$\n",
    "as $\\delta\\downarrow 0$.\n",
    "\n",
    "* In conclusion, is this inverse source problem well-posed? Why (not)?\n",
    "\n"
   ]
  },
  {
   "cell_type": "markdown",
   "metadata": {},
   "source": [
    "# Inverse scattering\n",
    "\n",
    "Consider the inverse scattering problem for $n=3$, $c=1$, with the incident field resulting from point-sources on the sphere with radius $\\rho$ and measurements on the same sphere. The scattering potential is supported on the unit sphere.\n",
    "\n",
    "* Show that for $\\rho \\gg 1$, the measurements are given by\n",
    "$$\n",
    "\\widehat f(\\omega,\\xi,\\eta) \\propto \\omega^2\\widehat{u}(\\omega (\\xi - \\eta)),\n",
    "$$\n",
    "where $\\widehat{u}$ is the spatial Fourier transform of the scattering potential, $u$, and $\\xi,\\eta$ are points on the unit sphere.\n",
    "* Assuming that measurements are available for $\\omega \\in [\\omega_0,\\omega_1]$, sketch which wavenumbers of $u$ can be stably reconstructed. In what sense is the problem ill-posed?\n"
   ]
  },
  {
   "cell_type": "markdown",
   "metadata": {},
   "source": [
    "# Non-scattering potentials\n",
    "For $n=2$, $L=1$, $c=1$, with a single incident plane wave, $v_i(t,x) = \\sin(\\omega(t - \\xi\\cdot x))$, with direction $\\xi$ and measurements parallel to the direction of propagation at the opposite end of the scattering potential. Use the Python code to generate data for a given scattering potential, $r$.\n",
    "\n",
    "* Determine suitable $\\Delta t$, $\\Delta x$ and $T$ and generate data for scattering potential $u(x) = \\exp(-200|x|^2)$ and an incident plane wave with $\\xi = (1,0)$ and $\\omega = 10\\pi$.\n",
    "* Construct a non-scattering potential for this incident field and measurements by using the result you obtained in the previous exercise.\n",
    "* Can you construct a non-scattering potential that is invisible from multiple directions?\n",
    "\n"
   ]
  },
  {
   "cell_type": "code",
   "execution_count": 4,
   "metadata": {},
   "outputs": [
    {
     "data": {
      "image/png": "[encoded data removed]",
      "text/plain": [
       "<Figure size 432x288 with 8 Axes>"
      ]
     },
     "metadata": {},
     "output_type": "display_data"
    }
   ],
   "source": [
    "# grid\n",
    "nt = 201\n",
    "nx = 101\n",
    "x = np.linspace(-1,1,nx)\n",
    "y = np.linspace(-1,1,nx)\n",
    "t = np.linspace(0,1,nt)\n",
    "xx,yy,tt = np.meshgrid(x,y,t)\n",
    "\n",
    "# velocity\n",
    "c = 1.0\n",
    "\n",
    "# scattering potential\n",
    "a = 200;\n",
    "r = np.exp(-a*xx**2)*np.exp(-a*yy**2);\n",
    "\n",
    "# incident field, plane wave at 10 Hz.\n",
    "omega  = 2*np.pi*5\n",
    "ui = np.sin(omega*(tt - (xx + 1)/c))\n",
    "\n",
    "# solve\n",
    "us = waves.solve(r*ui,c,t[1]-t[0],x[1]-x[0],n=2)\n",
    "\n",
    "# sample\n",
    "xr = 0.8*np.ones(101)\n",
    "yr = np.linspace(-1,1,101)\n",
    "\n",
    "P = waves.sample(x,xr,yr)\n",
    "\n",
    "d = P@us\n",
    "\n",
    "# plot\n",
    "ui.resize((nx,nx,nt))\n",
    "us.resize((nx,nx,nt))\n",
    "\n",
    "plt.subplot(241)\n",
    "plt.imshow(ui[:,:,1])\n",
    "plt.clim((-1,1))\n",
    "\n",
    "plt.subplot(242)\n",
    "plt.imshow(ui[:,:,51])\n",
    "plt.clim((-1,1))\n",
    "\n",
    "plt.subplot(243)\n",
    "plt.imshow(ui[:,:,101])\n",
    "plt.clim((-1,1))\n",
    "\n",
    "plt.subplot(244)\n",
    "plt.imshow(ui[:,:,151])\n",
    "plt.clim((-1,1))\n",
    "\n",
    "plt.subplot(245)\n",
    "plt.imshow(us[:,:,1])\n",
    "plt.clim((-.001,.001))\n",
    "\n",
    "plt.subplot(246)\n",
    "plt.imshow(us[:,:,51])\n",
    "plt.clim((-.001,.001))\n",
    "\n",
    "plt.subplot(247)\n",
    "plt.imshow(us[:,:,101])\n",
    "plt.clim((-.001,.001))\n",
    "\n",
    "plt.subplot(248)\n",
    "plt.imshow(us[:,:,151])\n",
    "plt.clim((-.001,.001))\n",
    "\n",
    "plt.show()"
   ]
  },
  {
   "cell_type": "markdown",
   "metadata": {},
   "source": [
    "# Parameter estimation\n",
    "\n",
    "For $n=1$, $c=1$, $L=1$, $q(t,x) = w''(t - t_0)\\delta(x - x_0)$, with $t_0 = 0.2$, $x_0 = -0.5$ and where $w$ is given by\n",
    "$$\n",
    "w(t) = \\exp(-(t/\\sigma)^2/2).\n",
    "$$\n",
    "\n",
    "* Express the solution $v(t,x)$ by using the Green function\n",
    "\n",
    "The measurements are given by $f(t) = K(c) \\equiv v(t,0.5)$. Consider retrieving the soundspeed $c$ by minimizing\n",
    "$$\n",
    "J(c) = \\|K(c) - f\\|^2.\n",
    "$$\n",
    "\n",
    "* Plot the objective as a function of $c$ for various values of $\\sigma$.\n",
    "* Do you think Newton's method will be successful in retrieving the correct $c$?\n"
   ]
  }
 ],
 "metadata": {
  "kernelspec": {
   "display_name": "Python 3",
   "language": "python",
   "name": "python3"
  },
  "language_info": {
   "codemirror_mode": {
    "name": "ipython",
    "version": 3
   },
   "file_extension": ".py",
   "mimetype": "text/x-python",
   "name": "python",
   "nbconvert_exporter": "python",
   "pygments_lexer": "ipython3",
   "version": "3.7.0"
  }
 },
 "nbformat": 4,
 "nbformat_minor": 2
}
