{
 "cells": [
  {
   "cell_type": "code",
   "execution_count": 1,
   "metadata": {},
   "outputs": [],
   "source": [
    "import numpy as np\n",
    "import matplotlib.pyplot as plt\n",
    "import waves"
   ]
  },
  {
   "cell_type": "markdown",
   "metadata": {},
   "source": [
    "# Inverse source problem\n",
    "\n",
    "Take $n=1$, $c=1$ and source term $\\delta(t)u(x)$ with $u$ square integrable and supported on $(-\\frac{1}{2},\\frac{1}{2})$ and measurements at $x = 1$ for $t\\in [0,T]$.\n",
    "\n",
    "* Show that the forward operator can be expressed as\n",
    "$$\n",
    "f(t) = Ku(t) = \\frac{1}{2}\\int_{\\max(\\min(1-t,1/2),0)}^{1/2} u(x')\\mathrm{d}x',\n",
    "$$\n",
    "and that the operator is bounded.\n",
    "\n",
    "* Show that $u$ can *in principle* be reconstructed from $f(t)$ with $T = \\frac{3}{2}$ with the following reconstruction formula:\n",
    "$$\n",
    "\\widetilde{u}(x) = -f'(1 - x)/2.\n",
    "$$\n",
    "\n",
    "* Show that $v_{\\epsilon}(x) = \\sin(2\\pi\\epsilon x)$ is an almost non-radiating source in the sense that $\\|K v_{\\epsilon}\\|/\\|v_{\\epsilon}\\| = \\mathcal{O}(\\epsilon^{-1})$ as $\\epsilon \\rightarrow \\infty$.\n",
    "\n",
    "* Now consider noisy measurements $f^{\\delta}(t) = K u(t) + \\delta \\sin(t/\\delta)$ and show that the error in the reconstruction is of order 1, i.e.,\n",
    "$$\n",
    "\\|\\widetilde{u} - u\\| = \\mathcal{O}(1),\n",
    "$$\n",
    "as $\\delta\\downarrow 0$.\n",
    "\n",
    "* In conclusion, is this inverse source problem well-posed? Why (not)?\n",
    "\n"
   ]
  },
  {
   "cell_type": "markdown",
   "metadata": {},
   "source": [
    "* For $n = 1$ the solution to the wave equation with the given source term is given by\n",
    "$$v(t,x) = \\frac{1}{2}\\int_{-1/2}^{1/2} \\int \\delta(t')u(x') H(t - t' - |x - x'|)\\mathrm{d}t'\\mathrm{d}x' =  \\frac{1}{2}\\int u(x)  H(t - |x - x'|) \\mathrm{d}x'.$$\n",
    "For measurements at $x = 1$ this simplifies to\n",
    "$$f(t) = v(t,1) = \\frac{1}{2}\\int_{-1/2}^{1/2} u(x')  H(t - |1 - x'|) \\mathrm{d}x'.$$\n",
    "This leads to the desired expression becuase we need $t \\geq (1-x')$.\n",
    "To show that this a bounded operator consider\n",
    "$$\\|f\\|^2 = \\int_0^T \\left(\\frac{1}{2}\\int_{\\max(\\min(1-t,1/2),0)}^{1/2} u(x')\\mathrm{d}x'\\right)^2 \\mathrm{d}t \\leq \\frac{1}{4}\\int_0^T (1/2-\\max(\\min(1-t,1/2),0))\\int_{-1/2}^{1/2} u(x')^2 \\mathrm{d}x\\mathrm{d}t = C \\|u\\|_2^2,$$\n",
    "where we have used the Cauchy-Schwarz inequality to bound $\\left(\\int_a^b u(x) \\mathrm{d}x\\right)^2 \\leq \\left(\\int_a^b 1 \\mathrm{d}x \\right)\\left(\\int_a^b u(x)^2 \\mathrm{d}x \\right).$"
   ]
  },
  {
   "cell_type": "markdown",
   "metadata": {},
   "source": [
    "* For $1/2 \\leq t \\leq 3/2$ we have $f(t) = (1/2)\\int_{1-t}^{1/2} u(x) \\mathrm{d}x$, so $f'(t) = u(1-t)/2$."
   ]
  },
  {
   "cell_type": "markdown",
   "metadata": {},
   "source": [
    "* Integration brings out a factor $\\epsilon^{-1}$, whereas the norm of $v_{\\epsilon}$ is $\\mathcal{O}(1)$ as $\\epsilon \\rightarrow \\infty$."
   ]
  },
  {
   "cell_type": "markdown",
   "metadata": {},
   "source": [
    "* Using the reconstruction formula we derived before we see that the particular noise term leads to a constant factor."
   ]
  },
  {
   "cell_type": "markdown",
   "metadata": {},
   "source": [
    "* We conclude that the problem is not well-posed as we cannot uniquely and stably reconstruct the solution."
   ]
  },
  {
   "cell_type": "markdown",
   "metadata": {},
   "source": [
    "# Inverse scattering\n",
    "\n",
    "Consider the inverse scattering problem for $n=3$, $c=1$, with the incident field resulting from point-sources on the sphere with radius $\\rho$ and measurements on the same sphere. The scattering potential is supported on the unit sphere.\n",
    "\n",
    "* Show that for $\\rho \\gg 1$, the measurements are given by\n",
    "$$\n",
    "\\widehat f(\\omega,\\xi,\\eta) \\propto \\omega^2\\widehat{u}(\\omega (\\xi + \\eta)),\n",
    "$$\n",
    "where $\\widehat{u}$ is the spatial Fourier transform of the scattering potential, $u$, and $\\xi,\\eta$ are points on the unit sphere.\n",
    "* Assuming that measurements are available for $\\omega \\in [\\omega_0,\\omega_1]$, sketch which wavenumbers of $u$ can be stably reconstructed. In what sense is the problem ill-posed?\n"
   ]
  },
  {
   "cell_type": "markdown",
   "metadata": {},
   "source": [
    "* We start from the forward operator\n",
    "$$f(t,r,s) = Ku(t,r,s) = \\int_{\\Omega} u(x) \\frac{\\delta''(t - |x - r| - |x - s|)}{|x-r||x-s|}\\mathrm{d}x.$$\n",
    "After Fourier transform in $t$ we get\n",
    "$$\\widehat{f}(\\omega,r,s) = \\omega^2\\int_{\\Omega}u(x)\\frac{\\exp(\\imath\\omega(|x-r|+|x-s|))}{|x-r||x-s|}.$$\n",
    "With the far-field approximation ($\\rho = |r| = |s| \\gg |x|$) $|x-s| \\approx |s| + x\\cdot s / |s|$ and $|x-r| \\approx |r| + x\\cdot r / |r|$ and introducing $\\xi = s/|s|$, $\\eta = r/|r|$ we get\n",
    "$$\\widehat{f}(\\omega,\\xi,\\eta) \\approx \\frac{\\omega^2 e^{2\\imath\\omega \\rho}}{\\rho^2}\\int_{\\Omega} \\frac{\\exp(\\imath\\omega x\\cdot(\\xi + \\eta))}{\\rho^2} u(x)\\mathrm{d}x,$$\n",
    "which can be interpreted as a Fourier transform of $u$ evaluated at wavenumber $\\omega (\\xi + \\eta)$."
   ]
  },
  {
   "cell_type": "markdown",
   "metadata": {},
   "source": [
    "* We can retrieve $u$ from $\\widehat{u}$ if we have samples of its Fourier transform everywhere. However, the data only gives us samples $\\omega (\\xi + \\eta)$, where $\\xi,\\eta \\in \\mathbb{S}^2$. We can thus recover all samples in the unit sphere with radius $2\\omega_1$."
   ]
  },
  {
   "cell_type": "markdown",
   "metadata": {},
   "source": [
    "# Non-scattering potentials\n",
    "For $n=2$, $L=1$, $c=1$, with a single incident plane wave, $v_i(t,x) = \\sin(\\omega(t - \\xi\\cdot x))$, with direction $\\xi$ and measurements parallel to the direction of propagation at the opposite end of the scattering potential. Use the Python code to generate data for a given scattering potential, $r$.\n",
    "\n",
    "* Determine suitable $\\Delta t$, $\\Delta x$ and $T$ and generate data for scattering potential $u(x) = \\exp(-200|x|^2)$ and an incident plane wave with $\\xi = (1,0)$ and $\\omega = 10\\pi$.\n",
    "* Construct a non-scattering potential for this incident field and measurements by using the result you obtained in the previous exercise.\n",
    "* Can you construct a non-scattering potential that is invisible from multiple directions?\n",
    "\n"
   ]
  },
  {
   "cell_type": "markdown",
   "metadata": {},
   "source": [
    "* The simulation is shown below:"
   ]
  },
  {
   "cell_type": "code",
   "execution_count": 2,
   "metadata": {},
   "outputs": [
    {
     "data": {
      "image/png": "[encoded data removed]",
      "text/plain": [
       "<matplotlib.figure.Figure at 0x106b10748>"
      ]
     },
     "metadata": {},
     "output_type": "display_data"
    }
   ],
   "source": [
    "# grid\n",
    "nt = 201\n",
    "nx = 101\n",
    "x = np.linspace(-1,1,nx)\n",
    "y = np.linspace(-1,1,nx)\n",
    "t = np.linspace(0,1,nt)\n",
    "xx,yy,tt = np.meshgrid(x,y,t)\n",
    "\n",
    "# velocity\n",
    "c = 1.0\n",
    "\n",
    "# scattering potential\n",
    "a = 200;\n",
    "r = np.exp(-a*(xx**2 + yy**2))\n",
    "\n",
    "# incident field, plane wave at 10 Hz.\n",
    "omega  = 2*np.pi*5\n",
    "ui = np.sin(omega*(tt - (xx + 1)/c))\n",
    "\n",
    "# solve\n",
    "us = waves.solve(r*ui,c,t[1]-t[0],x[1]-x[0],n=2)\n",
    "\n",
    "# sample\n",
    "xr = 0.8*np.ones(101)\n",
    "yr = np.linspace(-1,1,101)\n",
    "\n",
    "P = waves.sample(x,xr,yr)\n",
    "\n",
    "d = P@us\n",
    "\n",
    "# plot\n",
    "ui.resize((nx,nx,nt))\n",
    "us.resize((nx,nx,nt))\n",
    "\n",
    "plt.subplot(241)\n",
    "plt.imshow(ui[:,:,1])\n",
    "plt.clim((-1,1))\n",
    "\n",
    "plt.subplot(242)\n",
    "plt.imshow(ui[:,:,51])\n",
    "plt.clim((-1,1))\n",
    "\n",
    "plt.subplot(243)\n",
    "plt.imshow(ui[:,:,101])\n",
    "plt.clim((-1,1))\n",
    "\n",
    "plt.subplot(244)\n",
    "plt.imshow(ui[:,:,151])\n",
    "plt.clim((-1,1))\n",
    "\n",
    "plt.subplot(245)\n",
    "plt.imshow(us[:,:,1])\n",
    "plt.clim((-.001,.001))\n",
    "\n",
    "plt.subplot(246)\n",
    "plt.imshow(us[:,:,51])\n",
    "plt.clim((-.001,.001))\n",
    "\n",
    "plt.subplot(247)\n",
    "plt.imshow(us[:,:,101])\n",
    "plt.clim((-.001,.001))\n",
    "\n",
    "plt.subplot(248)\n",
    "plt.imshow(us[:,:,151])\n",
    "plt.clim((-.001,.001))\n",
    "\n",
    "plt.show()"
   ]
  },
  {
   "cell_type": "markdown",
   "metadata": {},
   "source": [
    "* The result from the previous applies equally to the case $n = 2$ because the Green's function are the same up to a constant factor (in the far field approximation). We set $\\xi = (1,0)$ and $\\eta = (-1,0)$, which thus gives us information about $\\widehat{u}((0,0))$. If we choose $\\widehat{u}((0,0)) = 0$ we get no response. In the example below we simply take a derivative of the scattering potential from the previous example to achieve this."
   ]
  },
  {
   "cell_type": "code",
   "execution_count": 6,
   "metadata": {},
   "outputs": [
    {
     "data": {
      "image/png": "[encoded data removed]",
      "text/plain": [
       "<matplotlib.figure.Figure at 0x1102de7b8>"
      ]
     },
     "metadata": {},
     "output_type": "display_data"
    }
   ],
   "source": [
    "# non-scattering potential\n",
    "r0 = xx*np.exp(-a*(xx**2 + yy**2))\n",
    "\n",
    "# solve\n",
    "us = waves.solve(r0*ui,c,t[1]-t[0],x[1]-x[0],n=2)\n",
    "\n",
    "# sample\n",
    "d = P@us\n",
    "\n",
    "# plot\n",
    "ui.resize((nx,nx,nt))\n",
    "us.resize((nx,nx,nt))\n",
    "\n",
    "plt.subplot(241)\n",
    "plt.imshow(ui[:,:,1])\n",
    "plt.clim((-1,1))\n",
    "\n",
    "plt.subplot(242)\n",
    "plt.imshow(ui[:,:,51])\n",
    "plt.clim((-1,1))\n",
    "\n",
    "plt.subplot(243)\n",
    "plt.imshow(ui[:,:,101])\n",
    "plt.clim((-1,1))\n",
    "\n",
    "plt.subplot(244)\n",
    "plt.imshow(ui[:,:,151])\n",
    "plt.clim((-1,1))\n",
    "\n",
    "plt.subplot(245)\n",
    "plt.imshow(us[:,:,1])\n",
    "plt.clim((-.001,.001))\n",
    "\n",
    "plt.subplot(246)\n",
    "plt.imshow(us[:,:,51])\n",
    "plt.clim((-.001,.001))\n",
    "\n",
    "plt.subplot(247)\n",
    "plt.imshow(us[:,:,101])\n",
    "plt.clim((-.001,.001))\n",
    "\n",
    "plt.subplot(248)\n",
    "plt.imshow(us[:,:,151])\n",
    "plt.clim((-.001,.001))\n",
    "\n",
    "plt.show()"
   ]
  },
  {
   "cell_type": "markdown",
   "metadata": {},
   "source": [
    "* We cannot the same trick to make the scattering potential invisible from all directions."
   ]
  },
  {
   "cell_type": "markdown",
   "metadata": {},
   "source": [
    "# Parameter estimation\n",
    "\n",
    "For $n=1$, $c=1$, $L=1$, $q(t,x) = w''(t - t_0)\\delta(x - x_0)$, with $t_0 = 0.2$, $x_0 = -0.5$ and where $w$ is given by\n",
    "$$\n",
    "w(t) = \\exp(-(t/\\sigma)^2/2).\n",
    "$$\n",
    "\n",
    "* Express the solution $v(t,x)$ by using the Green function\n",
    "\n",
    "The measurements are given by $f(t) = K(c) \\equiv v(t,0.5)$. Consider retrieving the soundspeed $c$ by minimizing\n",
    "$$\n",
    "J(c) = \\|K(c) - f\\|^2.\n",
    "$$\n",
    "\n",
    "* Plot the objective as a function of $c$ for various values of $\\sigma$.\n",
    "* Do you think Newton's method will be successful in retrieving the correct $c$?\n"
   ]
  },
  {
   "cell_type": "markdown",
   "metadata": {},
   "source": [
    "* We get $$v(t,x) = \\frac{1}{2c}\\int\\int q(t',x') H(t-t' - |x - x'|/c)\\mathrm{d}t'\\mathrm{d}x' = \\frac{1}{2c}\\int  w''(t' - t_0) H(t-t' - |x - x_0|/c)\\mathrm{d}t'.$$\n",
    "Integrating by parts we get $$v(t,x) = \\frac{1}{2c} w'(t - t_0 - |x-x_0|/c).$$ This gives\n",
    "$$K(c) = \\frac{-1}{2c} w'(t - 0.2 + 1/c).$$"
   ]
  },
  {
   "cell_type": "code",
   "execution_count": 46,
   "metadata": {},
   "outputs": [],
   "source": [
    "t = np.linspace(0,5,100)\n",
    "sigma = .5e-1\n",
    "w = lambda t : np.exp(-0.5*(t/sigma)**2)\n",
    "dw = lambda t : (-(t/sigma))*np.exp(-0.5*(t/sigma)**2)\n",
    "K = lambda c : -dw(t - 0.2 - 1/c)/(2*c)\n",
    "J = lambda c : np.linalg.norm(K(c) - K(1))**2"
   ]
  },
  {
   "cell_type": "code",
   "execution_count": 47,
   "metadata": {},
   "outputs": [],
   "source": [
    "c = np.linspace(0.5,1.5,100)\n",
    "Js = np.zeros(100)\n",
    "for k in range(100):\n",
    "    Js[k] = J(c[k])"
   ]
  },
  {
   "cell_type": "code",
   "execution_count": 48,
   "metadata": {},
   "outputs": [
    {
     "data": {
      "text/plain": [
       "[<matplotlib.lines.Line2D at 0x10de03fd0>]"
      ]
     },
     "execution_count": 48,
     "metadata": {},
     "output_type": "execute_result"
    },
    {
     "data": {
      "image/png": "[encoded data removed]",
      "text/plain": [
       "<matplotlib.figure.Figure at 0x10ff15c88>"
      ]
     },
     "metadata": {},
     "output_type": "display_data"
    }
   ],
   "source": [
    "plt.plot(c,Js)"
   ]
  },
  {
   "cell_type": "markdown",
   "metadata": {},
   "source": [
    "In the plot above we see the behaviour of $J(c)$; in particular a few stationary points and local minimum away from the global minimizer. This makes it difficult to find the optimal $c$."
   ]
  }
 ],
 "metadata": {
  "kernelspec": {
   "display_name": "Python 3",
   "language": "python",
   "name": "python3"
  },
  "language_info": {
   "codemirror_mode": {
    "name": "ipython",
    "version": 3
   },
   "file_extension": ".py",
   "mimetype": "text/x-python",
   "name": "python",
   "nbconvert_exporter": "python",
   "pygments_lexer": "ipython3",
   "version": "3.6.1"
  }
 },
 "nbformat": 4,
 "nbformat_minor": 2
}
