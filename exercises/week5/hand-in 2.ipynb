{
 "cells": [
  {
   "cell_type": "code",
   "execution_count": 2,
   "metadata": {},
   "outputs": [],
   "source": [
    "import numpy as np\n",
    "import matplotlib.pyplot as plt"
   ]
  },
  {
   "cell_type": "markdown",
   "metadata": {},
   "source": [
    "## Convolution on a finite interval\n",
    "\n",
    "We can similary define convolution with a Gaussian kernel on a finite interval $[0,\\pi]$ through the initial boundary-value problem\n",
    "$$v_t = v_{xx}, \\quad v(t,0) = v(t,\\pi) = 0,\\quad v(0,x) = u(x)$$\n",
    "with $f(x) = v(1,x)$."
   ]
  },
  {
   "cell_type": "markdown",
   "metadata": {},
   "source": [
    "The solution of the initial boundary-value problem is given by \n",
    "$$v(t,x) = \\sum_{k=1}^{\\infty} a_k\\exp(- k^2 t)\\sin(k x),$$\n",
    "with $a_k$ are the Fourier sine coefficients of $u$:\n",
    "$$a_k = \\langle u, \\sin(k\\cdot) \\rangle = \\frac{2}{\\pi}\\int_0^{\\pi} u(k) \\sin (k x) \\mathrm{d}x.$$"
   ]
  },
  {
   "cell_type": "markdown",
   "metadata": {},
   "source": [
    "**1.** Define the forward operator $f = Ku$ in terms of the solution of the IBVP as $f(x) = v(1,x)$. Give the singular system of $K$, i.e., find $(\\sigma_k, u_k, v_k)$ such that $Ku(x)$ can be expressed as \n",
    "$$Ku(x) = \\sum_{k=0}^\\infty \\sigma_k \\langle u, v_k \\rangle u_k(x).$$\n"
   ]
  },
  {
   "cell_type": "markdown",
   "metadata": {},
   "source": [
    "**2.** The pseudo-inverse of $K$ is defined as\n",
    "$$K^\\dagger f(x) = \\sum_{k=0}^n \\sigma_k^{-1}\\langle f, u_k \\rangle v_k(x).$$\n",
    "\n",
    "We can define a *regularized* pseudo-inverse through the variational problem\n",
    "$$\\min_{u} \\|Ku - f\\|^2 + \\alpha R(u).$$\n",
    "We investigate two types of regularization \n",
    "1. $$R(x) = \\|u\\|^2,$$\n",
    "2. $$R(x) = \\|u'\\|^2.$$\n",
    "\n",
    "Show that these lead to the following regularized pseudo-inverses\n",
    "1. $$K_{\\alpha}^\\dagger f = \\sum_{k=0}^\\infty \\frac{1}{\\sigma_k + \\alpha\\sigma_k^{-1}}\\langle f, u_k \\rangle v_k(x).$$\n",
    "\n",
    "2. $$K_{\\alpha}^\\dagger f = \\sum_{k=0}^\\infty \\frac{1}{\\sigma_k + \\alpha k^2\\sigma_k^{-1}}\\langle f, u_k \\rangle v_k(x)$$\n",
    "\n",
    "**hint:** you can use the fact that the $v_k$ form an orthonormal basis for functions on $[0,1]$ and hence express the solution in terms of this basis."
   ]
  },
  {
   "cell_type": "markdown",
   "metadata": {},
   "source": [
    "**3.** We can now study the need for regularization, assuming that the Fourier coefficients $f_k = \\langle f, u_k \\rangle$ of $f$ are given. Determine which type of regularization (if any) is needed to satisty the Picard condition in the following cases (you can set $\\alpha = 1$ for this analysis)\n",
    "\n",
    "1. $f_k = \\exp(-2 k^2)$\n",
    "2. $f_k = k^{-1}$"
   ]
  },
  {
   "cell_type": "markdown",
   "metadata": {},
   "source": [
    "**4.** Compute the bias and variance for $u(x) = \\sin(k x)$ and  measurements $f^{\\delta}(x) = Ku(x) + \\delta \\sin(\\ell x)$ for fixed $k < \\ell$ and $\\delta$. Plot the bias and variance for well-chosen $k,\\ell$ and $\\delta$ and discuss the difference between the two types of regularization."
   ]
  }
 ],
 "metadata": {
  "kernelspec": {
   "display_name": "Python 3",
   "language": "python",
   "name": "python3"
  },
  "language_info": {
   "codemirror_mode": {
    "name": "ipython",
    "version": 3
   },
   "file_extension": ".py",
   "mimetype": "text/x-python",
   "name": "python",
   "nbconvert_exporter": "python",
   "pygments_lexer": "ipython3",
   "version": "3.7.0"
  }
 },
 "nbformat": 4,
 "nbformat_minor": 2
}
