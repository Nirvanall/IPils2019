{
 "cells": [
  {
   "cell_type": "code",
   "execution_count": 1,
   "metadata": {},
   "outputs": [],
   "source": [
    "import numpy as np\n",
    "import matplotlib.pyplot as plt"
   ]
  },
  {
   "cell_type": "markdown",
   "metadata": {},
   "source": [
    "## Exercise: Convolution through the heat equation\n",
    "\n",
    "In this exercise we'll explore the relation between the heat equation and convolution with a Gaussian kernel. Specifically, we'll see that the linear operation $f = Ku$ defined by the initial-value problem\n",
    "$$v_t = v_{xx}, \\quad v(0,x) = u(x), \\quad f(x) = v(1,x),$$\n",
    "is given by\n",
    "$$Ku(x) = \\frac{1}{2\\sqrt{\\pi}}\\int_{\\mathbb{R}} u(x') \\exp(-(x - x')^2/4) \\mathrm{d}x'.$$"
   ]
  },
  {
   "cell_type": "markdown",
   "metadata": {},
   "source": [
    "1. Verify that the solution to the heat equation is given by\n",
    "$$v(t,x) = \\int_{\\mathbb{R}} u(x') g_t(x - x')\\mathrm{d}x',$$\n",
    "where $g_t(x)$ is the *heat-kernel*:\n",
    "$$g_t(x) = \\frac{1}{2\\sqrt{\\pi t}}\\exp(-(x/2)^2/t).$$\n",
    "You may use here that $g_t(x)$ converges (in the sense of distributions) to $\\delta(x)$ as $t \\downarrow 0$."
   ]
  },
  {
   "cell_type": "markdown",
   "metadata": {},
   "source": [
    "2. Is the operator bounded? compact? self-adjoint?"
   ]
  },
  {
   "cell_type": "markdown",
   "metadata": {},
   "source": [
    "We can use the [convolution theorem](https://en.wikipedia.org/wiki/Convolution_theorem) to represent the operator as\n",
    "$$Ku = F^{-1}((Fu)\\cdot(Fg_1)),$$\n",
    "where $\\cdot$ denotes point-wise multiplication and $F$ denotes the [Fourier transform](https://en.wikipedia.org/wiki/Fourier_transform)\n",
    "$$Fu(\\xi) = \\int_{\\mathbb{R}} u(x) e^{\\imath 2\\pi \\xi x} {\\mathrm{d}}x,$$\n",
    "with inverse\n",
    "$$F^{-1}\\widehat{u}(x) = \\int_{\\mathbb{R}} \\widehat{u}(\\xi) e^{-\\imath 2\\pi\\xi x} {\\mathrm{d}}\\xi.$$"
   ]
  },
  {
   "cell_type": "markdown",
   "metadata": {},
   "source": [
    "3. Express the inverse of $K$ as a convolution with another filter $h$. 4. How does ill-posed manifest itself here?"
   ]
  },
  {
   "cell_type": "markdown",
   "metadata": {},
   "source": [
    "4. Can you come up with a regularized filter $h_{\\alpha}$ ?"
   ]
  },
  {
   "cell_type": "markdown",
   "metadata": {},
   "source": [
    "5. We can experiment with the inverse problem by using a discrete Fourier transform. Implement the inverse operator and the regularized inverse and show the effect of regularization."
   ]
  },
  {
   "cell_type": "code",
   "execution_count": 2,
   "metadata": {},
   "outputs": [
    {
     "data": {
      "text/plain": [
       "[<matplotlib.lines.Line2D at 0x10df2e320>]"
      ]
     },
     "execution_count": 2,
     "metadata": {},
     "output_type": "execute_result"
    },
    {
     "data": {
      "image/png": "[encoded data removed]",
      "text/plain": [
       "<matplotlib.figure.Figure at 0x10850b0b8>"
      ]
     },
     "metadata": {},
     "output_type": "display_data"
    }
   ],
   "source": [
    "n = 100\n",
    "x = np.linspace(-10,10,n)\n",
    "\n",
    "u = np.heaviside(2-np.abs(x),1)\n",
    "g = np.exp(-x**2/4)\n",
    "\n",
    "f = np.fft.irfft(np.fft.rfft(u)*np.fft.rfft(g))\n",
    "\n",
    "plt.plot(x,u)"
   ]
  },
  {
   "cell_type": "markdown",
   "metadata": {},
   "source": [
    "## Exercise: L1 Deblurring via the convolution theorem"
   ]
  },
  {
   "cell_type": "markdown",
   "metadata": {},
   "source": [
    "For given data $f$ and a convolution kernel $k$ we study the following regularized variational method:\n",
    "$$ \\left\\| k \\ast u - f \\right\\|_{L^2(\\Omega)}^2 \\:+\\: \\alpha \\: \\int_\\Omega | (\\mathcal{F}u)(w) | \\: dw ~ \\rightarrow ~ \\min_{u} $$\n",
    "where $(\\mathcal{F}u)(w)$ denotes the Fourier transform of $u$ at wave number $w$. Similar to the lecture, find an explicit representation of the solution of the problem using the [convolution theorem](https://en.wikipedia.org/wiki/Convolution_theorem) and the [Plancherel theorem](https://en.wikipedia.org/wiki/Plancherel_theorem). For simplicity you can assume that everything is real valued.\n",
    "\n",
    "Hint: The derivative of the absolute value function is multivalued (you need cases)."
   ]
  }
 ],
 "metadata": {
  "kernelspec": {
   "display_name": "Python 3",
   "language": "python",
   "name": "python3"
  },
  "language_info": {
   "codemirror_mode": {
    "name": "ipython",
    "version": 3
   },
   "file_extension": ".py",
   "mimetype": "text/x-python",
   "name": "python",
   "nbconvert_exporter": "python",
   "pygments_lexer": "ipython3",
   "version": "3.6.4"
  }
 },
 "nbformat": 4,
 "nbformat_minor": 2
}
