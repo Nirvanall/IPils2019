{
 "cells": [
  {
   "cell_type": "code",
   "execution_count": 1,
   "metadata": {},
   "outputs": [],
   "source": [
    "import numpy as np\n",
    "import matplotlib.pyplot as plt"
   ]
  },
  {
   "cell_type": "markdown",
   "metadata": {},
   "source": [
    "## Convolution through the heat equation\n",
    "\n",
    "In this exercise we'll explore the relation between the heat equation and convolution with a Gaussian kernel. Specifically, we'll see that the linear operation $f = Ku$ defined by the intial-value problem\n",
    "$$v_t = v_{xx}, \\quad v(0,x) = u(x), \\quad f(x) = v(1,x),$$\n",
    "is given by\n",
    "$$Ku(x) = \\int_{\\mathbb{R}} u(x') \\exp(-(x - x')^2) \\mathrm{d}x'.$$"
   ]
  },
  {
   "cell_type": "markdown",
   "metadata": {},
   "source": [
    "1. Verify that the solution to the heat equation is given by\n",
    "$$v(t,x) = \\int_{\\mathbb{R}} u(x') g_t(x - x')\\mathrm{d}x',$$\n",
    "where $g_t(x)$ is the *heat-kernel*:\n",
    "$$g_t(x) = \\exp().$$"
   ]
  },
  {
   "cell_type": "markdown",
   "metadata": {},
   "source": [
    "2. Linearity, boundedness, self-adjointness, and compactness of K ?"
   ]
  },
  {
   "cell_type": "markdown",
   "metadata": {},
   "source": [
    "## Convolution on a finite interval\n",
    "\n",
    "We can similary define convolution with a Gaussian kernel on a finite interval through the initial boundary-value problem\n",
    "$$v_t = v_{xx}, \\quad v(t,0) = v(t,1) = 0,\\quad v(0,x) = u(x)$$\n",
    "with $f(x) = v(1,x)$."
   ]
  },
  {
   "cell_type": "markdown",
   "metadata": {},
   "source": [
    "1. Verify that the solution of the initial boundary-value problem is given by \n",
    "$$v(t,x) = \\sum_{k=1}^{\\infty} a_k\\exp(- \\lambda_k^2 t)\\sin(\\lambda_k x),$$\n",
    "with $\\lambda_k = k\\pi$ and $a_k$ are the Fourier sine coefficients of $u$:\n",
    "$$a_k = \\int_0^1 u(k) \\sin (\\lambda_k x) \\mathrm{d}x.$$"
   ]
  },
  {
   "cell_type": "markdown",
   "metadata": {},
   "source": [
    "2. Define the forward operator $f = Ku$ in terms of the solution of the IBVP as $f(x) = v(1,x)$. Give the singular system of $K$, i.e., find $(\\sigma_k, u_k, v_k)$ such that $Ku(x)$ can be expressed as \n",
    "$$Ku(x) = \\sum_{k=0}^\\infty \\sigma_k \\langle u, v_k \\rangle u_k(x).$$"
   ]
  },
  {
   "cell_type": "markdown",
   "metadata": {},
   "source": [
    "3. Now define the regularized pseudo-inverse\n",
    "\n",
    "$$K_{\\alpha}^\\dagger f(x) = \\sum_{k=0}^n g_{\\alpha}(\\sigma_k) \\langle u, v_k \\rangle u_k(x),$$\n",
    "with $g_{\\alpha}(s) = s/(\\alpha + s^2)$ for Tikhonov regularization and $g_{\\alpha} = s/(s\\alpha + s^2)$ for Lavrientef regularization."
   ]
  },
  {
   "cell_type": "markdown",
   "metadata": {},
   "source": [
    "4. Check the Picard condition for the following right-hand sides:\n",
    "$$f(x) = ..$$"
   ]
  },
  {
   "cell_type": "markdown",
   "metadata": {},
   "source": [
    "5. A natural way to approximate compact operators is by taking partial sums. Implement the forward operator and the regularized pseudo inverse."
   ]
  }
 ],
 "metadata": {
  "kernelspec": {
   "display_name": "Python 3",
   "language": "python",
   "name": "python3"
  },
  "language_info": {
   "codemirror_mode": {
    "name": "ipython",
    "version": 3
   },
   "file_extension": ".py",
   "mimetype": "text/x-python",
   "name": "python",
   "nbconvert_exporter": "python",
   "pygments_lexer": "ipython3",
   "version": "3.7.0"
  }
 },
 "nbformat": 4,
 "nbformat_minor": 2
}
