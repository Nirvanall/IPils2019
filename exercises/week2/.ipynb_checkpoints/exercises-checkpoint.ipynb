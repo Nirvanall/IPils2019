{
 "cells": [
  {
   "cell_type": "code",
   "execution_count": 1,
   "metadata": {},
   "outputs": [],
   "source": [
    "import numpy as np\n",
    "import matplotlib.pyplot as plt"
   ]
  },
  {
   "cell_type": "markdown",
   "metadata": {},
   "source": [
    "# Lecture 2 - Finite-dimensional linear inverse problems "
   ]
  },
  {
   "cell_type": "markdown",
   "metadata": {},
   "source": [
    "## Least-squares and minimum-norm solutions:\n",
    "Given a system of equations $Ku = f$ with $K\\in\\mathbb{R}^{m\\times n}$:\n",
    "\n",
    "1. For $m > n$ and rank($K$) = $n$, show that the pseudo-inverse gives the solution $u = K^\\dagger f$ with the smallest residual $\\|Ku - f\\|_2$\n",
    "\n",
    "2. For $m < n$ and rank($K$) = $m$, show that the pseudo-inverse gives the solution $u = K^\\dagger f$ with the smallest norm $\\|u\\|_2$\n",
    "\n",
    "3. For $m > n$ and rank($K$) = $r < n$, show that the pseudo-inverse gives the solution that minimizes both $\\|Ku - f\\|_2$ and $\\|u\\|_2$."
   ]
  },
  {
   "cell_type": "markdown",
   "metadata": {},
   "source": [
    "## Pseudo-inverse\n",
    "\n",
    "Show that \n",
    "\n",
    "1. $KK^\\dagger$ is an orthogonal projection on to the range of $K$\n",
    "2. $I - K^\\dagger K$ is an orthogonal projection to to the null-space of $K$"
   ]
  },
  {
   "cell_type": "markdown",
   "metadata": {},
   "source": [
    "## SVD\n",
    "\n",
    "Solve the following systems of equations using the SVD and psuedo-inverse\n",
    "\n",
    "1. $$K = \\left(\\begin{matrix} 1 & 2 \\\\ 2 & 1\\end{matrix}\\right), \\quad f = \\left(\\begin{matrix} 1 \\\\ 1 \\end{matrix}\\right),$$\n",
    "\n",
    "2. $$K = \\left(\\begin{matrix} 1 & 1 \\\\ 1 & 1.001\\end{matrix}\\right), \\quad f = \\left(\\begin{matrix} 1 \\\\ 1 \\end{matrix}\\right),$$\n",
    "\n",
    "3. $$K = \\left(\\begin{matrix} 1 & 1 \\\\ 2 & 1 \\\\ 2 & 2\\end{matrix}\\right), \\quad f = \\left(\\begin{matrix} 1 \\\\ 1 \\\\ 1\\end{matrix}\\right),$$\n",
    "\n",
    "4. $$K = \\left(\\begin{matrix} 1 & 1 \\\\ 2 & 1 \\\\ 2 & 2\\end{matrix}\\right), \\quad f = \\left(\\begin{matrix} 1 \\\\ 2 \\\\ 2\\end{matrix}\\right),$$\n",
    "\n",
    "5. $$K = \\left(\\begin{matrix} 1 & 2 & 1\\\\ 2 & 0 & 2\\end{matrix}\\right), \\quad f = \\left(\\begin{matrix} 1 \\\\ 1 \\end{matrix}\\right),$$\n",
    "\n",
    "6. $$K = \\left(\\begin{matrix} 1 & 0 \\\\ 0 & 0\\end{matrix}\\right), \\quad f = \\left(\\begin{matrix} 0 \\\\ 1 \\end{matrix}\\right),$$\n",
    "\n",
    "You can compute the SVD in Python as follows:"
   ]
  },
  {
   "cell_type": "code",
   "execution_count": 2,
   "metadata": {},
   "outputs": [
    {
     "name": "stdout",
     "output_type": "stream",
     "text": [
      "The singular values are: [5.82051023 1.05908482]\n",
      "The left singular vectors are: [-0.37540137 -0.3492891  -0.85852835] [ 0.4485299  -0.87905288  0.16151458]\n",
      "The right singular vectors are: [-0.62701799 -0.77900477] [-0.77900477  0.62701799]\n"
     ]
    }
   ],
   "source": [
    "K = np.array([[1,2],[2,1],[3,4]])\n",
    "\n",
    "U, s, Vt = np.linalg.svd(K)\n",
    "print(\"The singular values are:\", s)\n",
    "print(\"The left singular vectors are:\",U[:,0], U[:,1])\n",
    "print(\"The right singular vectors are:\",Vt[0], Vt[1])"
   ]
  },
  {
   "cell_type": "code",
   "execution_count": null,
   "metadata": {},
   "outputs": [],
   "source": []
  }
 ],
 "metadata": {
  "kernelspec": {
   "display_name": "Python 3",
   "language": "python",
   "name": "python3"
  },
  "language_info": {
   "codemirror_mode": {
    "name": "ipython",
    "version": 3
   },
   "file_extension": ".py",
   "mimetype": "text/x-python",
   "name": "python",
   "nbconvert_exporter": "python",
   "pygments_lexer": "ipython3",
   "version": "3.7.0"
  }
 },
 "nbformat": 4,
 "nbformat_minor": 2
}
