{
 "cells": [
  {
   "cell_type": "code",
   "execution_count": 2,
   "metadata": {},
   "outputs": [],
   "source": [
    "import numpy as np\n",
    "import matplotlib.pyplot as plt"
   ]
  },
  {
   "cell_type": "markdown",
   "metadata": {},
   "source": [
    "## Steepest descent\n",
    "\n",
    "Consider the following fixed point iteration for minimizing a given function $f : \\mathbb{R}^n \\rightarrow \\mathbb{R}$\n",
    "$$\n",
    "u^{(k+1)} = u^{(k)} - \\alpha \\nabla f(u^{(k)}),\n",
    "$$\n",
    "where $f$ is twice continuously differentiable and strictly convex:\n",
    "$$\n",
    "\\mu I \\preceq \\nabla^2 f(u) \\preceq L I,\n",
    "$$\n",
    "with $0 < \\mu < L < \\infty$.\n"
   ]
  },
  {
   "cell_type": "markdown",
   "metadata": {},
   "source": [
    "* Show that the fixed point iteration converges linearly for $0 < \\alpha < 2/L$.\n",
    "* Determine the value of $\\alpha$ for which the iteration converges fastest."
   ]
  },
  {
   "cell_type": "markdown",
   "metadata": {},
   "source": [
    "## Rosenbrock\n",
    "\n",
    "We are going to test various optimization methods on the Rosenbrock function\n",
    "$$\n",
    "f(x,y) = (a - x)^2 + b(y - x^2)^2,\n",
    "$$\n",
    "with $a = 1$ and $b = 100$. The function has a global minimum at $(a, a^2)$."
   ]
  },
  {
   "cell_type": "markdown",
   "metadata": {},
   "source": [
    "\n",
    "* Write a function to compute the Rosenbrock function, its gradient and the Hessian for given input $(x,y)$. Visualize the function on $[-3,3]^2$ and indicate the neighborhoud around the minimum where $f$ is convex.\n",
    "\n",
    "* Implement the method from exercise 1 and test convergence from various initial points. Does the method always convergce? How small do you need to pick $\\alpha$? How fast?\n",
    "\n",
    "* Implement a linesearch strategy to ensure that $\\alpha_k$ satisfies the Wolfe conditions, does $\\alpha$ vary a lot?"
   ]
  }
 ],
 "metadata": {
  "kernelspec": {
   "display_name": "Python 3",
   "language": "python",
   "name": "python3"
  },
  "language_info": {
   "codemirror_mode": {
    "name": "ipython",
    "version": 3
   },
   "file_extension": ".py",
   "mimetype": "text/x-python",
   "name": "python",
   "nbconvert_exporter": "python",
   "pygments_lexer": "ipython3",
   "version": "3.7.0"
  }
 },
 "nbformat": 4,
 "nbformat_minor": 2
}
