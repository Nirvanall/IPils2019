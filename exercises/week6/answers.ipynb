{
 "cells": [
  {
   "cell_type": "code",
   "execution_count": 2,
   "metadata": {},
   "outputs": [],
   "source": [
    "import numpy as np\n",
    "import matplotlib.pyplot as plt"
   ]
  },
  {
   "cell_type": "markdown",
   "metadata": {},
   "source": [
    "## Exercise 1:\n",
    "\n",
    "Consider a linear inverse problem\n",
    "$$\n",
    "Ku = f^{\\delta},\n",
    "$$\n",
    "with $f^{\\delta} = K\\overline u + \\epsilon$, where $\\epsilon$ is drawn from a normal distributed with zero mean and covariance $\\Sigma_{\\text{noise}}$ and $\\overline u$ is drawn from a normal distributed with mean $\\mu_{\\text{prior}}$ and covariance $\\Sigma_{\\text{prior}}$.\n",
    "\n",
    "Show that the posterior distribution is Gaussian with mean\n",
    "$$\n",
    "\\mu_{\\text{post}} = \\mu_{\\text{prior}} + \\left(K^T\\Sigma_{\\text{noise}}^{-1}K + \\Sigma_{\\text{prior}}^{-1}\\right)^{-1}K^T\\Sigma_{\\text{noise}}^{-1}(f - K\\mu_{\\text{prior}}),\n",
    "$$\n",
    "and covariance\n",
    "$$\n",
    "\\Sigma_{\\text{post}} = \\Sigma_{\\text{prior}} - \\Sigma_{\\text{prior}}K^T\\left(K\\Sigma_{\\text{prior}}K^T + \\Sigma_{\\text{noise}}\\right)^{-1}K\\Sigma_{\\text{prior}}.\n",
    "$$\n",
    "Hint: The [Binomial inverse theorem](https://en.wikipedia.org/wiki/Woodbury_matrix_identity#Binomial_inverse_theorem) may come in handy.\n"
   ]
  },
  {
   "cell_type": "markdown",
   "metadata": {},
   "source": [
    "## answer"
   ]
  },
  {
   "cell_type": "markdown",
   "metadata": {},
   "source": [
    "The likelihood is a Gaussian with mean $Ku$ and covariance $\\Sigma_{\\text{noise}}$:\n",
    "$$\\pi_{\\text{likelihood}}(f^{\\delta} | u) \\propto \\exp(-\\textstyle{\\frac{1}{2}}(Ku - f^{\\delta})^T\\Sigma_{\\text{noise}}^{-1}(Ku - f^\\delta)).$$\n",
    "The prior is a Gaussian with mean $\\mu_{\\text{prior}}$ and covariance $\\Sigma_{\\text{prior}}$:\n",
    "$$\\pi_{\\text{prior}}(u) \\propto \\exp(-\\textstyle{\\frac{1}{2}}(u - \\mu_{\\text{prior}})^T\\Sigma_{\\text{prior}}^{-1}(u - \\mu_{\\text{prior}})).$$\n",
    "Forming the product gives \n",
    "$$\\pi_{\\text{post}}(u | f^{\\delta}) \\propto \\exp(-\\textstyle{\\frac{1}{2}}(Ku - f^{\\delta})^T\\Sigma_{\\text{noise}}^{-1}(Ku - f^\\delta) -\\textstyle{\\frac{1}{2}}(u - \\mu_{\\text{prior}})^T\\Sigma_{\\text{prior}}^{-1}(u - \\mu_{\\text{prior}})).$$\n",
    "The goal is to write this as\n",
    "$$\\pi_{\\text{post}}(u | f^{\\delta}) \\propto \\exp(-\\textstyle{\\frac{1}{2}}(u - \\mu_{\\text{post}})^T\\Sigma_{\\text{post}}^{-1}(u - \\mu_{\\text{post}})).$$\n"
   ]
  },
  {
   "cell_type": "markdown",
   "metadata": {},
   "source": [
    "Expanding terms in the exponential we get\n",
    "$$u^T(K^T\\Sigma_{\\text{noise}}^{-1}K + \\Sigma_{\\text{prior}}^{-1})u - 2u^T(K^T\\Sigma_{\\text{noise}}^{-1}f^\\delta  + \\Sigma_{\\text{prior}}^{-1}\\mu_{\\text{prior}}) + \\text{constants}.$$\n",
    "The goal is to rewrite this as\n",
    "$$u^T\\Sigma_{\\text{post}}^{-1}u - 2u^T\\Sigma_{\\text{post}}^{-1}\\mu_{\\text{post}} + \\text{constants}.$$\n",
    "Hence:\n",
    "$$\\Sigma_{\\text{post}} = (K^T\\Sigma_{\\text{noise}}^{-1}K + \\Sigma_{\\text{prior}}^{-1})^{-1},$$\n",
    "and\n",
    "$$\\mu_{\\text{post}} = \\Sigma_{\\text{post}}(K^T\\Sigma_{\\text{noise}}^{-1}f^\\delta  + \\Sigma_{\\text{prior}}^{-1}\\mu_{\\text{prior}}).$$\n",
    "Using the Binomial inverse theorem we find the desired expression for $\\Sigma_{\\text{post}}$. More algebraic manipulations yield the desired expression for $\\mu_{\\text{post}}$"
   ]
  },
  {
   "cell_type": "markdown",
   "metadata": {},
   "source": [
    "## Exercise 2:\n",
    "Consider a linear inverse problem $Ku = f^{\\delta}$, where we assume that $f^{\\delta}$ follows a Poisson distribution with mean $\\overline f = K\\overline{u}$.\n",
    "\n",
    "* Show that the MAP estimate may be obtained by solving the following minimization problem\n",
    "$$\n",
    "\\min_u \\sum_i \\left(({K}u)_i - f_i^\\delta\\ln ({K}u)_i\\right).\n",
    "$$\n",
    "\n",
    "* Assuming that both $\\|Ku - f^{\\delta}\\|$ is small, show that the log-likelihood function may be approximated as\n",
    "$$\n",
    "\\sum_i \\left(({K}u)_i - f_i^\\delta\\ln ({K}u)_i\\right) \\approx \\frac{1}{2}\\|Ku - f^{\\delta}\\|_{\\Sigma^{-1}}^2 + \\text{constants},\n",
    "$$\n",
    "where $\\Sigma$ is a diagonal matrix with elements $1/f_i^{\\delta}$."
   ]
  },
  {
   "cell_type": "markdown",
   "metadata": {},
   "source": [
    "## answer"
   ]
  },
  {
   "cell_type": "markdown",
   "metadata": {},
   "source": [
    "The likelihood is a Poisson distrubution with parameter $Ku$:\n",
    "$$\\pi_{\\text{likelihood}}(f^{\\delta} | u) \\propto \\prod_{i} \\frac{(Ku)_i^{f^{\\delta}_i} e^{-(Ku)_i}}{f^{\\delta}_i!}.$$\n",
    "Note that we have implicltly assumed some indepence so that we can simply multiple univariate distrubutions with parameter $(Ku)_i$ to get the multivariate distribution. Taking the negative $\\log$ and ignoring the constant term (that do not depend on $u$) we get the desired expression."
   ]
  },
  {
   "cell_type": "markdown",
   "metadata": {},
   "source": [
    "The second and third questions are meant to show that in certain regimes, the Poisson distrubution is well-approximated by a Gaussian with mean and variance given by the Poisson parameter. Hence, for the purpose of MAP estimation we can replace the Poisson likelihood by a Gaussian, and hence minimization of a weighted least-squares problem. A derivation is given below"
   ]
  },
  {
   "cell_type": "markdown",
   "metadata": {},
   "source": [
    "Assuming $u$ is close to the ground truth, we consider a Taylor expansion of the $\\ln$ term around $f^{\\delta}$:\n",
    "$$\\ln f_i \\approx \\ln f_i^\\delta + \\frac{(f_i - f^\\delta)}{f^\\delta} - \\frac{(f_i - f_i^\\delta)}{2(f_i^\\delta)^2}.$$\n",
    "Plugging this in in gives the desired expression."
   ]
  },
  {
   "cell_type": "markdown",
   "metadata": {},
   "source": [
    "## Exercise 3:\n",
    "Consider the inverse problem\n",
    "$$\n",
    "Ku = f^{\\delta},\n",
    "$$\n",
    "where\n",
    "$$Ku(x) = \\int_0^1 u(x')e^{-d(x-x')^2} \\mathrm{d}x',$$\n",
    "and\n",
    "$$\n",
    "f^{\\delta} = K\\overline{u} + \\epsilon.\n",
    "$$\n",
    "Generate $\\overline u \\in \\mathbb{R}^n$ as Gaussian random fields with mean zero and covariance\n",
    "$$\n",
    "\\Sigma_{ij} = \\exp\\left(-\\frac{|x_i-x_j|}{L}\\right),\n",
    "$$\n",
    "and Gaussian noise, $\\epsilon$, with zero mean and variance $\\sigma$.\n",
    "\n",
    "\n",
    "* For varying correlation length $L$ and noise level $\\sigma$, reconstruct the images using the regularized pseudo inverse of $K$. How well can you reconstruct? You can draw samples from the multivariate normal distribution using `numpy.random.multivariate_normal`\n",
    "\n",
    "* Compute the MAP estimate from\n",
    "$$\n",
    "\\min_{u} \\sigma^{-2}\\|Ku - f^{\\delta}\\|_2^2 + \\|u\\|_{\\Sigma^{-1}}^2.\n",
    "$$\n",
    "How well can you reconstruct now?\n",
    "\n",
    "* What happens if you use two different covariance matrices for generating and reconstructing $u$?\n"
   ]
  },
  {
   "cell_type": "code",
   "execution_count": 17,
   "metadata": {},
   "outputs": [],
   "source": [
    "def getK(n):\n",
    "    h = 1/n;\n",
    "    d = 1e3;\n",
    "    x = np.linspace(h/2,1-h/2,n)\n",
    "    xx,yy = np.meshgrid(x,x)\n",
    "    K = np.exp(-d*(xx-yy)**2)\n",
    "    \n",
    "    return K,x"
   ]
  },
  {
   "cell_type": "code",
   "execution_count": 18,
   "metadata": {},
   "outputs": [],
   "source": [
    "n = 100\n",
    "sigma = 1e-1\n",
    "L = 1\n",
    "\n",
    "K,x = getK(n)\n",
    "\n",
    "C = np.exp(-np.abs(np.outer(x,np.ones(n)) - np.outer(np.ones(n),x))/L)\n",
    "\n",
    "u = np.random.multivariate_normal(np.zeros(n),C)\n",
    "noise = sigma*np.random.randn(n)\n",
    "f = K@u + noise"
   ]
  },
  {
   "cell_type": "markdown",
   "metadata": {},
   "source": [
    "## answer"
   ]
  },
  {
   "cell_type": "markdown",
   "metadata": {},
   "source": [
    "To study the difference, we'll consider solving the inverse problem using generalized Tikhonov\n",
    "$$\\min_u \\|Ku - f\\|^2 + \\alpha \\|R^{-1/2}u\\|_2^2,$$\n",
    "and compute the average (over random noise instances) error for various $\\alpha$. The hypothesis is that using $R = C$ and $\\alpha = \\sigma^2$ gives the best results."
   ]
  },
  {
   "cell_type": "code",
   "execution_count": null,
   "metadata": {},
   "outputs": [],
   "source": [
    "# generate true image\n",
    "n = 100\n",
    "sigma = 1e-1\n",
    "L = 1\n",
    "\n",
    "K,x = getK(n)\n",
    "\n",
    "C = np.exp(-np.abs(np.outer(x,np.ones(n)) - np.outer(np.ones(n),x))/L)\n",
    "\n",
    "u = np.random.multivariate_normal(np.zeros(n),C)"
   ]
  },
  {
   "cell_type": "code",
   "execution_count": 97,
   "metadata": {},
   "outputs": [],
   "source": [
    "def recon(u,sigma,alpha,R,m):\n",
    "    \"\"\"\n",
    "    Draw random noise with variance sigma_true\n",
    "    and reconstruct using generalized Tikhonov with regularization min_u \\|Ku - f\\|^2 + alpha \\|R^{-1/2}u\\|_2^2\n",
    "    \"\"\"\n",
    "    n = len(u_true)\n",
    "    K,x = getK(n)\n",
    "    \n",
    "    urec = np.zeros((m,n))\n",
    "    for k in range(m):\n",
    "        noise = sigma*np.random.randn(n)\n",
    "        f = K@u + noise\n",
    "        urec[k] = np.linalg.solve(K.T@K + alpha*np.linalg.inv(R), K.T@f)\n",
    "    \n",
    "    error = np.mean(np.sum((urec - u)**2,axis=1))    \n",
    "    return error,urec"
   ]
  },
  {
   "cell_type": "code",
   "execution_count": null,
   "metadata": {},
   "outputs": [],
   "source": [
    "# sampling settings\n",
    "m = 100\n",
    "alpha = np.linspace(0.1,10,50)"
   ]
  },
  {
   "cell_type": "markdown",
   "metadata": {},
   "source": [
    "First, let's consider standard Tikhonov regularization $R = I$:"
   ]
  },
  {
   "cell_type": "code",
   "execution_count": 104,
   "metadata": {},
   "outputs": [],
   "source": [
    "R = np.eye(n)\n",
    "error1 = np.zeros(len(alpha))\n",
    "for k in range(len(alpha)):\n",
    "    error1[k],urec = recon(u,sigma,alpha[k],R,m)"
   ]
  },
  {
   "cell_type": "code",
   "execution_count": 105,
   "metadata": {},
   "outputs": [
    {
     "data": {
      "text/plain": [
       "[<matplotlib.lines.Line2D at 0x109b7da58>]"
      ]
     },
     "execution_count": 105,
     "metadata": {},
     "output_type": "execute_result"
    },
    {
     "data": {
      "image/png": "[encoded data removed]",
      "text/plain": [
       "<matplotlib.figure.Figure at 0x109ad2320>"
      ]
     },
     "metadata": {},
     "output_type": "display_data"
    }
   ],
   "source": [
    "plt.plot(alpha,error1,label='R = I')"
   ]
  },
  {
   "cell_type": "markdown",
   "metadata": {},
   "source": [
    "Next, let's use the actual noise and prior covariance:"
   ]
  },
  {
   "cell_type": "code",
   "execution_count": 106,
   "metadata": {},
   "outputs": [],
   "source": [
    "R = C\n",
    "error2 = np.zeros(len(alpha))\n",
    "for k in range(len(alpha)):\n",
    "    error2[k],urec = recon(u,sigma,alpha[k],R,m)"
   ]
  },
  {
   "cell_type": "code",
   "execution_count": 111,
   "metadata": {},
   "outputs": [
    {
     "data": {
      "text/plain": [
       "<matplotlib.legend.Legend at 0x109e95748>"
      ]
     },
     "execution_count": 111,
     "metadata": {},
     "output_type": "execute_result"
    },
    {
     "data": {
      "image/png": "[encoded data removed]",
      "text/plain": [
       "<matplotlib.figure.Figure at 0x109d21cc0>"
      ]
     },
     "metadata": {},
     "output_type": "display_data"
    }
   ],
   "source": [
    "plt.plot(alpha,error1,label='$R = I$')\n",
    "plt.plot(alpha,error2,label='$R = C_L$')\n",
    "plt.legend()"
   ]
  },
  {
   "cell_type": "markdown",
   "metadata": {},
   "source": [
    "We can conclude that\n",
    "\n",
    "* Using the actual underlying covariance does indeed lead to better results.\n",
    "* The optimal $\\alpha$ when using the true covariance matrix is indeed given by $\\sigma^2$\n",
    "* For large $\\alpha$ it does not really matter which covariance matrix is used to reglarize the problem"
   ]
  },
  {
   "cell_type": "markdown",
   "metadata": {},
   "source": [
    "Finally, we can consider using a regularization with a large correlation length:"
   ]
  },
  {
   "cell_type": "code",
   "execution_count": 109,
   "metadata": {},
   "outputs": [],
   "source": [
    "R = np.exp(-np.abs(np.outer(x,np.ones(n)) - np.outer(np.ones(n),x))/(2*L))\n",
    "error3 = np.zeros(len(alpha))\n",
    "for k in range(len(alpha)):\n",
    "    error3[k],urec = recon(u,sigma,alpha[k],R,m)"
   ]
  },
  {
   "cell_type": "code",
   "execution_count": 113,
   "metadata": {},
   "outputs": [
    {
     "data": {
      "text/plain": [
       "(0, 2)"
      ]
     },
     "execution_count": 113,
     "metadata": {},
     "output_type": "execute_result"
    },
    {
     "data": {
      "image/png": "[encoded data removed]",
      "text/plain": [
       "<matplotlib.figure.Figure at 0x109fda0f0>"
      ]
     },
     "metadata": {},
     "output_type": "display_data"
    }
   ],
   "source": [
    "plt.plot(alpha,error1,label='$R = I$')\n",
    "plt.plot(alpha,error2,label='$R = C_{L}$')\n",
    "plt.plot(alpha,error3,label='$R = C_{2L}$')\n",
    "plt.legend()\n",
    "plt.xlim([0,2])"
   ]
  },
  {
   "cell_type": "markdown",
   "metadata": {},
   "source": [
    "We note that is does do a little better when we underestimate $\\alpha$ and worse if we overestimate it."
   ]
  }
 ],
 "metadata": {
  "kernelspec": {
   "display_name": "Python 3",
   "language": "python",
   "name": "python3"
  },
  "language_info": {
   "codemirror_mode": {
    "name": "ipython",
    "version": 3
   },
   "file_extension": ".py",
   "mimetype": "text/x-python",
   "name": "python",
   "nbconvert_exporter": "python",
   "pygments_lexer": "ipython3",
   "version": "3.6.1"
  }
 },
 "nbformat": 4,
 "nbformat_minor": 2
}
