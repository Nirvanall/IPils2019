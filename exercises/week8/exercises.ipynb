{
 "cells": [
  {
   "cell_type": "code",
   "execution_count": 1,
   "metadata": {},
   "outputs": [],
   "source": [
    "import numpy as np\n",
    "import matplotlib.pyplot as plt"
   ]
  },
  {
   "cell_type": "markdown",
   "metadata": {},
   "source": [
    "## Exercise 1"
   ]
  },
  {
   "cell_type": "markdown",
   "metadata": {},
   "source": [
    "Let $\\Omega \\subset \\mathbb{R}^2$ and $\\Sigma \\subset \\mathbb{R}^2$. Compute the Fréchet derivatives of the following functionals:\n",
    "\n",
    "* $J(u) = \\frac{1}{2} \\left\\| \\nabla u \\right\\|_{L^2(\\Omega)}^2$ where $u \\in W^{1,2}(\\Omega)$.\n",
    "* $J(u) = \\frac{1}{2} \\left\\| Ku-f \\right\\|_{L^2(\\Sigma)}^2$ where $K: L^2(\\Omega) \\rightarrow L^2(\\Sigma)$ is a compact linear operator, $u : \\Omega \\rightarrow \\mathbb{R}$ and $f : \\Sigma \\rightarrow \\mathbb{R}$.\n",
    "* $J(\\mathbf{v}) = \\frac{1}{2} \\left\\| \\partial_t f + \\nabla\\cdot(f \\mathbf{v}) \\right\\|_{L^2(\\Omega \\times [0,T])}^2$ \n",
    "\twhere $f$ here represents an image sequence, i.e. $f: \\Omega \\times [0,T] \\rightarrow \\mathbb{R}$, and $\\mathbf{v}$ denotes a desired vector field, i.e. $\\mathbf{v}: \\Omega \\times [0,T] \\rightarrow \\mathbb{R}^2$.\n"
   ]
  },
  {
   "cell_type": "markdown",
   "metadata": {},
   "source": [
    "## Exercise 2"
   ]
  },
  {
   "cell_type": "markdown",
   "metadata": {},
   "source": [
    "Consider the Tikhonov functional for denoising (in $\\mathbb{R}^n$):\n",
    "$$\\min\\limits_x\\frac{1}{2}\\left\\|x-y\\right\\|_2^2 + \\frac{\\alpha}{2}\\left\\|x\\right\\|_2^2.$$\n",
    "\n",
    "* Give the solution of this variational problem explicitly.\n",
    "* Generate in Python a random 1x128 vector with 5 non-zero coefficients (entries) and add aussian noise with standard deviation $\\sigma = 0.05$ (see example below)\n",
    "* Denoise the vector by solving the variational problem. What happens for different regularisation parameters $\\alpha = \\left\\{0.01, 0.05, 0.1, 0.2\\right\\}$?. Consider in particular $\\alpha=0.1$. *Is the solution sparse?*"
   ]
  },
  {
   "cell_type": "code",
   "execution_count": 12,
   "metadata": {},
   "outputs": [
    {
     "data": {
      "text/plain": [
       "[<matplotlib.lines.Line2D at 0x11b285e80>]"
      ]
     },
     "execution_count": 12,
     "metadata": {},
     "output_type": "execute_result"
    },
    {
     "data": {
      "image/png": "[encoded data removed]",
      "text/plain": [
       "<Figure size 432x288 with 1 Axes>"
      ]
     },
     "metadata": {},
     "output_type": "display_data"
    }
   ],
   "source": [
    "n = 128\n",
    "k = 5\n",
    "sigma = 0.05\n",
    "\n",
    "x = np.zeros(n)\n",
    "x[np.random.randint(128,size=k)]=np.random.randn(k)\n",
    "y = x + sigma*np.random.randn(n)\n",
    "plt.plot(x)\n",
    "plt.plot(y)"
   ]
  },
  {
   "cell_type": "markdown",
   "metadata": {},
   "source": [
    "## Exercise 3"
   ]
  },
  {
   "cell_type": "markdown",
   "metadata": {},
   "source": [
    "Repeat exercise 2 for\n",
    "$$\\min_x\\frac{1}{2}\\left\\|x-y\\right\\|_2^2 + \\alpha\\left\\|x\\right\\|_1$$"
   ]
  },
  {
   "cell_type": "code",
   "execution_count": null,
   "metadata": {},
   "outputs": [],
   "source": []
  }
 ],
 "metadata": {
  "kernelspec": {
   "display_name": "Python 3",
   "language": "python",
   "name": "python3"
  },
  "language_info": {
   "codemirror_mode": {
    "name": "ipython",
    "version": 3
   },
   "file_extension": ".py",
   "mimetype": "text/x-python",
   "name": "python",
   "nbconvert_exporter": "python",
   "pygments_lexer": "ipython3",
   "version": "3.7.0"
  }
 },
 "nbformat": 4,
 "nbformat_minor": 2
}
