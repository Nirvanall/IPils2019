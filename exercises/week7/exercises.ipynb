{
 "cells": [
  {
   "cell_type": "markdown",
   "metadata": {},
   "source": [
    "## Exercise 1:"
   ]
  },
  {
   "cell_type": "markdown",
   "metadata": {},
   "source": [
    "One implementation of the Radon transform and the FBP can be found in the [`scikit-image` toolbox](http://scikit-image.org/). Study the [demo script](http://scikit-image.org/docs/dev/auto_examples/transform/plot_radon_transform.html) \n",
    "to figure out how to load a simple image, compute its Radon transform to simulate sinogram data and how to run a FBP to obtain a reconstruction from this data. Choose image size and angle set independent from each other and set `circle=False`. \n",
    "* Now we examine what happens if we add noise to the sinogram data. Let $f = K u$ be the clean sinogram data arranged as a $m \\times 1$ vector and generate noisy data by setting $f^\\delta = f + \\sigma_{rel} \\|f\\|_{\\infty} \\varepsilon$, where $\\varepsilon$ is a $m\\times 1$ vector of standard normal distributed random variables and $\\sigma_{rel} \\geqslant 0$ corresponds to the relative noise level. Examine how the FBP reacts to different noise levels and how changing the frequency filter affects the results.  \n",
    "* In many applications, the range of available projection angles is restricted $\\theta \\in [\\theta_{min}, \\theta_{max}]$, $\\theta_{min} > 0$, $\\theta_{max} < \\pi$ or the angular resolution is very coarse. Examine the effects of these restrictions on FBP reconstructions. In limited angle tomography, which parts of the image are lost? "
   ]
  },
  {
   "cell_type": "code",
   "execution_count": null,
   "metadata": {},
   "outputs": [],
   "source": []
  }
 ],
 "metadata": {
  "kernelspec": {
   "display_name": "Python 3",
   "language": "python",
   "name": "python3"
  },
  "language_info": {
   "codemirror_mode": {
    "name": "ipython",
    "version": 3
   },
   "file_extension": ".py",
   "mimetype": "text/x-python",
   "name": "python",
   "nbconvert_exporter": "python",
   "pygments_lexer": "ipython3",
   "version": "3.7.0"
  }
 },
 "nbformat": 4,
 "nbformat_minor": 2
}
